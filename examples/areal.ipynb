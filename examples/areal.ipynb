{
 "cells": [
  {
   "cell_type": "code",
   "execution_count": 1,
   "metadata": {},
   "outputs": [],
   "source": [
    "from shapely.geometry import Polygon\n",
    "import numpy as np"
   ]
  },
  {
   "cell_type": "code",
   "execution_count": 2,
   "metadata": {},
   "outputs": [
    {
     "ename": "ModuleNotFoundError",
     "evalue": "No module named 'tobler'",
     "output_type": "error",
     "traceback": [
      "\u001b[0;31m---------------------------------------------------------------------------\u001b[0m",
      "\u001b[0;31mModuleNotFoundError\u001b[0m                       Traceback (most recent call last)",
      "\u001b[0;32m<ipython-input-2-a5f4dc528d1c>\u001b[0m in \u001b[0;36m<module>\u001b[0;34m\u001b[0m\n\u001b[1;32m      1\u001b[0m \u001b[0;32mimport\u001b[0m \u001b[0mgeopandas\u001b[0m \u001b[0;32mas\u001b[0m \u001b[0mgpd\u001b[0m\u001b[0;34m\u001b[0m\u001b[0m\n\u001b[0;32m----> 2\u001b[0;31m \u001b[0;32mfrom\u001b[0m \u001b[0mtobler\u001b[0m \u001b[0;32mimport\u001b[0m \u001b[0marea_table\u001b[0m\u001b[0;34m,\u001b[0m \u001b[0marea_extensive\u001b[0m\u001b[0;34m,\u001b[0m \u001b[0marea_intensive\u001b[0m\u001b[0;34m\u001b[0m\u001b[0m\n\u001b[0m",
      "\u001b[0;31mModuleNotFoundError\u001b[0m: No module named 'tobler'"
     ]
    }
   ],
   "source": [
    "import geopandas as gpd\n",
    "from tobler import area_table, area_extensive, area_intensive"
   ]
  },
  {
   "cell_type": "code",
   "execution_count": 3,
   "metadata": {},
   "outputs": [],
   "source": [
    "polys1 = gpd.GeoSeries([Polygon([(0,0), (10,0), (10,5), (0,5)]),\n",
    "                      Polygon([(0,5), (0,10),  (10,10), (10,5)])])\n",
    "\n",
    "polys2 = gpd.GeoSeries([Polygon([(0,0), (5,0), (5,7), (0,7)]),\n",
    "                      Polygon([(5,0), (5,10),  (10,10), (10,0)]),\n",
    "                       Polygon([(0,7), (0,10), (5,10), (5,7)  ])\n",
    "                       ])\n",
    "\n",
    "df1 = gpd.GeoDataFrame({'geometry': polys1})\n",
    "df2 = gpd.GeoDataFrame({'geometry': polys2})\n",
    "df1['population'] = [ 500,  200]\n",
    "df1['pci'] = [75, 100]\n",
    "df1['income'] = df1['population'] * df1['pci']\n",
    "\n",
    "df2['population'] = [ 500,  100, 200]\n",
    "df2['pci'] = [75, 80, 100]\n",
    "df2['income'] = df2['population'] * df2['pci']\n",
    "\n",
    "ax = df1.plot(color='red', edgecolor='k')"
   ]
  },
  {
   "cell_type": "code",
   "execution_count": 4,
   "metadata": {},
   "outputs": [
    {
     "data": {
      "image/png": "[encoded data removed]",
      "text/plain": [
       "<Figure size 432x288 with 1 Axes>"
      ]
     },
     "metadata": {
      "needs_background": "light"
     },
     "output_type": "display_data"
    }
   ],
   "source": [
    "ax = df2.plot(color='green', alpha=0.5, edgecolor='k')"
   ]
  },
  {
   "cell_type": "code",
   "execution_count": 5,
   "metadata": {},
   "outputs": [
    {
     "data": {
      "image/png": "[encoded data removed]",
      "text/plain": [
       "<Figure size 432x288 with 1 Axes>"
      ]
     },
     "metadata": {},
     "output_type": "display_data"
    }
   ],
   "source": [
    "res_union = gpd.overlay(df1, df2, how='union')\n",
    "ax = res_union.plot(alpha=0.5, cmap='tab10')\n",
    "df1.plot(ax=ax, facecolor='none', edgecolor='k');\n",
    "df2.plot(ax=ax, facecolor='none', edgecolor='k');"
   ]
  },
  {
   "cell_type": "code",
   "execution_count": null,
   "metadata": {},
   "outputs": [],
   "source": []
  },
  {
   "cell_type": "code",
   "execution_count": 43,
   "metadata": {},
   "outputs": [
    {
     "data": {
      "text/plain": [
       "array([[25., 15., 10.],\n",
       "       [25.,  0., 25.]])"
      ]
     },
     "execution_count": 43,
     "metadata": {},
     "output_type": "execute_result"
    }
   ],
   "source": [
    "area_table(df1, df2)"
   ]
  },
  {
   "cell_type": "code",
   "execution_count": 44,
   "metadata": {},
   "outputs": [
    {
     "data": {
      "text/plain": [
       "array([[25., 25.],\n",
       "       [15.,  0.],\n",
       "       [10., 25.]])"
      ]
     },
     "execution_count": 44,
     "metadata": {},
     "output_type": "execute_result"
    }
   ],
   "source": [
    "area_table(df2, df1)"
   ]
  },
  {
   "cell_type": "code",
   "execution_count": 45,
   "metadata": {},
   "outputs": [
    {
     "data": {
      "text/plain": [
       "array([407.14285714, 392.85714286])"
      ]
     },
     "execution_count": 45,
     "metadata": {},
     "output_type": "execute_result"
    }
   ],
   "source": [
    "area_extensive(df2, df1, 'population')"
   ]
  },
  {
   "cell_type": "code",
   "execution_count": 46,
   "metadata": {},
   "outputs": [
    {
     "data": {
      "text/plain": [
       "array([350., 150., 200.])"
      ]
     },
     "execution_count": 46,
     "metadata": {},
     "output_type": "execute_result"
    }
   ],
   "source": [
    "area_extensive(df1, df2, 'population')"
   ]
  },
  {
   "cell_type": "code",
   "execution_count": 47,
   "metadata": {},
   "outputs": [
    {
     "data": {
      "text/plain": [
       "array([81.5, 87.5])"
      ]
     },
     "execution_count": 47,
     "metadata": {},
     "output_type": "execute_result"
    }
   ],
   "source": [
    "area_intensive(df2, df1, 'pci')"
   ]
  },
  {
   "cell_type": "code",
   "execution_count": 48,
   "metadata": {},
   "outputs": [
    {
     "data": {
      "text/plain": [
       "array([87.5       , 75.        , 92.85714286])"
      ]
     },
     "execution_count": 48,
     "metadata": {},
     "output_type": "execute_result"
    }
   ],
   "source": [
    "area_intensive(df1, df2, 'pci')"
   ]
  },
  {
   "cell_type": "code",
   "execution_count": 49,
   "metadata": {},
   "outputs": [
    {
     "name": "stdout",
     "output_type": "stream",
     "text": [
      "0 population                                      500\n",
      "pci                                              75\n",
      "income                                        37500\n",
      "population_2                                    500\n",
      "pci_2                                            75\n",
      "income_2                                      37500\n",
      "geometry        POLYGON ((5 0, 0 0, 0 5, 5 5, 5 0))\n",
      "Name: 0, dtype: object\n",
      "1 population                                         500\n",
      "pci                                                 75\n",
      "income                                           37500\n",
      "population_2                                       100\n",
      "pci_2                                               80\n",
      "income_2                                          8000\n",
      "geometry        POLYGON ((10 0, 5 0, 5 5, 10 5, 10 0))\n",
      "Name: 1, dtype: object\n",
      "2 population                                                200\n",
      "pci                                                       100\n",
      "income                                                  20000\n",
      "population_2                                              100\n",
      "pci_2                                                      80\n",
      "income_2                                                 8000\n",
      "geometry        POLYGON ((10 5, 5 5, 5 7, 5 10, 10 10, 10 5))\n",
      "Name: 2, dtype: object\n",
      "3 population                                      200\n",
      "pci                                             100\n",
      "income                                        20000\n",
      "population_2                                    500\n",
      "pci_2                                            75\n",
      "income_2                                      37500\n",
      "geometry        POLYGON ((5 5, 0 5, 0 7, 5 7, 5 5))\n",
      "Name: 3, dtype: object\n",
      "4 population                                        200\n",
      "pci                                               100\n",
      "income                                          20000\n",
      "population_2                                      200\n",
      "pci_2                                             100\n",
      "income_2                                        20000\n",
      "geometry        POLYGON ((5 7, 0 7, 0 10, 5 10, 5 7))\n",
      "Name: 4, dtype: object\n"
     ]
    }
   ],
   "source": [
    "for idx, row in res_union.iterrows():\n",
    "    print(idx, row)"
   ]
  },
  {
   "cell_type": "code",
   "execution_count": 50,
   "metadata": {},
   "outputs": [
    {
     "data": {
      "text/html": [
       "<div>\n",
       "<style scoped>\n",
       "    .dataframe tbody tr th:only-of-type {\n",
       "        vertical-align: middle;\n",
       "    }\n",
       "\n",
       "    .dataframe tbody tr th {\n",
       "        vertical-align: top;\n",
       "    }\n",
       "\n",
       "    .dataframe thead th {\n",
       "        text-align: right;\n",
       "    }\n",
       "</style>\n",
       "<table border=\"1\" class=\"dataframe\">\n",
       "  <thead>\n",
       "    <tr style=\"text-align: right;\">\n",
       "      <th></th>\n",
       "      <th>population</th>\n",
       "      <th>pci</th>\n",
       "      <th>income</th>\n",
       "      <th>population_2</th>\n",
       "      <th>pci_2</th>\n",
       "      <th>income_2</th>\n",
       "      <th>geometry</th>\n",
       "    </tr>\n",
       "  </thead>\n",
       "  <tbody>\n",
       "    <tr>\n",
       "      <th>0</th>\n",
       "      <td>500</td>\n",
       "      <td>75</td>\n",
       "      <td>37500</td>\n",
       "      <td>500</td>\n",
       "      <td>75</td>\n",
       "      <td>37500</td>\n",
       "      <td>POLYGON ((5 0, 0 0, 0 5, 5 5, 5 0))</td>\n",
       "    </tr>\n",
       "    <tr>\n",
       "      <th>1</th>\n",
       "      <td>500</td>\n",
       "      <td>75</td>\n",
       "      <td>37500</td>\n",
       "      <td>100</td>\n",
       "      <td>80</td>\n",
       "      <td>8000</td>\n",
       "      <td>POLYGON ((10 0, 5 0, 5 5, 10 5, 10 0))</td>\n",
       "    </tr>\n",
       "    <tr>\n",
       "      <th>2</th>\n",
       "      <td>200</td>\n",
       "      <td>100</td>\n",
       "      <td>20000</td>\n",
       "      <td>100</td>\n",
       "      <td>80</td>\n",
       "      <td>8000</td>\n",
       "      <td>POLYGON ((10 5, 5 5, 5 7, 5 10, 10 10, 10 5))</td>\n",
       "    </tr>\n",
       "    <tr>\n",
       "      <th>3</th>\n",
       "      <td>200</td>\n",
       "      <td>100</td>\n",
       "      <td>20000</td>\n",
       "      <td>500</td>\n",
       "      <td>75</td>\n",
       "      <td>37500</td>\n",
       "      <td>POLYGON ((5 5, 0 5, 0 7, 5 7, 5 5))</td>\n",
       "    </tr>\n",
       "    <tr>\n",
       "      <th>4</th>\n",
       "      <td>200</td>\n",
       "      <td>100</td>\n",
       "      <td>20000</td>\n",
       "      <td>200</td>\n",
       "      <td>100</td>\n",
       "      <td>20000</td>\n",
       "      <td>POLYGON ((5 7, 0 7, 0 10, 5 10, 5 7))</td>\n",
       "    </tr>\n",
       "  </tbody>\n",
       "</table>\n",
       "</div>"
      ],
      "text/plain": [
       "   population  pci  income  population_2  pci_2  income_2  \\\n",
       "0         500   75   37500           500     75     37500   \n",
       "1         500   75   37500           100     80      8000   \n",
       "2         200  100   20000           100     80      8000   \n",
       "3         200  100   20000           500     75     37500   \n",
       "4         200  100   20000           200    100     20000   \n",
       "\n",
       "                                        geometry  \n",
       "0            POLYGON ((5 0, 0 0, 0 5, 5 5, 5 0))  \n",
       "1         POLYGON ((10 0, 5 0, 5 5, 10 5, 10 0))  \n",
       "2  POLYGON ((10 5, 5 5, 5 7, 5 10, 10 10, 10 5))  \n",
       "3            POLYGON ((5 5, 0 5, 0 7, 5 7, 5 5))  \n",
       "4          POLYGON ((5 7, 0 7, 0 10, 5 10, 5 7))  "
      ]
     },
     "execution_count": 50,
     "metadata": {},
     "output_type": "execute_result"
    }
   ],
   "source": [
    "res_union"
   ]
  },
  {
   "cell_type": "code",
   "execution_count": null,
   "metadata": {},
   "outputs": [],
   "source": [
    " "
   ]
  },
  {
   "cell_type": "code",
   "execution_count": null,
   "metadata": {},
   "outputs": [],
   "source": []
  },
  {
   "cell_type": "code",
   "execution_count": null,
   "metadata": {},
   "outputs": [],
   "source": []
  },
  {
   "cell_type": "code",
   "execution_count": 51,
   "metadata": {},
   "outputs": [
    {
     "data": {
      "text/html": [
       "<div>\n",
       "<style scoped>\n",
       "    .dataframe tbody tr th:only-of-type {\n",
       "        vertical-align: middle;\n",
       "    }\n",
       "\n",
       "    .dataframe tbody tr th {\n",
       "        vertical-align: top;\n",
       "    }\n",
       "\n",
       "    .dataframe thead th {\n",
       "        text-align: right;\n",
       "    }\n",
       "</style>\n",
       "<table border=\"1\" class=\"dataframe\">\n",
       "  <thead>\n",
       "    <tr style=\"text-align: right;\">\n",
       "      <th></th>\n",
       "      <th>geometry</th>\n",
       "      <th>population</th>\n",
       "      <th>pci</th>\n",
       "      <th>income</th>\n",
       "    </tr>\n",
       "  </thead>\n",
       "  <tbody>\n",
       "    <tr>\n",
       "      <th>0</th>\n",
       "      <td>POLYGON ((0 0, 10 0, 10 5, 0 5, 0 0))</td>\n",
       "      <td>500</td>\n",
       "      <td>75</td>\n",
       "      <td>37500</td>\n",
       "    </tr>\n",
       "    <tr>\n",
       "      <th>1</th>\n",
       "      <td>POLYGON ((0 5, 0 10, 10 10, 10 5, 0 5))</td>\n",
       "      <td>200</td>\n",
       "      <td>100</td>\n",
       "      <td>20000</td>\n",
       "    </tr>\n",
       "  </tbody>\n",
       "</table>\n",
       "</div>"
      ],
      "text/plain": [
       "                                  geometry  population  pci  income\n",
       "0    POLYGON ((0 0, 10 0, 10 5, 0 5, 0 0))         500   75   37500\n",
       "1  POLYGON ((0 5, 0 10, 10 10, 10 5, 0 5))         200  100   20000"
      ]
     },
     "execution_count": 51,
     "metadata": {},
     "output_type": "execute_result"
    }
   ],
   "source": [
    "df1"
   ]
  },
  {
   "cell_type": "code",
   "execution_count": 52,
   "metadata": {},
   "outputs": [
    {
     "data": {
      "text/html": [
       "<div>\n",
       "<style scoped>\n",
       "    .dataframe tbody tr th:only-of-type {\n",
       "        vertical-align: middle;\n",
       "    }\n",
       "\n",
       "    .dataframe tbody tr th {\n",
       "        vertical-align: top;\n",
       "    }\n",
       "\n",
       "    .dataframe thead th {\n",
       "        text-align: right;\n",
       "    }\n",
       "</style>\n",
       "<table border=\"1\" class=\"dataframe\">\n",
       "  <thead>\n",
       "    <tr style=\"text-align: right;\">\n",
       "      <th></th>\n",
       "      <th>geometry</th>\n",
       "      <th>population</th>\n",
       "      <th>pci</th>\n",
       "      <th>income</th>\n",
       "    </tr>\n",
       "  </thead>\n",
       "  <tbody>\n",
       "    <tr>\n",
       "      <th>0</th>\n",
       "      <td>POLYGON ((0 0, 5 0, 5 7, 0 7, 0 0))</td>\n",
       "      <td>500</td>\n",
       "      <td>75</td>\n",
       "      <td>37500</td>\n",
       "    </tr>\n",
       "    <tr>\n",
       "      <th>1</th>\n",
       "      <td>POLYGON ((5 0, 5 10, 10 10, 10 0, 5 0))</td>\n",
       "      <td>100</td>\n",
       "      <td>80</td>\n",
       "      <td>8000</td>\n",
       "    </tr>\n",
       "    <tr>\n",
       "      <th>2</th>\n",
       "      <td>POLYGON ((0 7, 0 10, 5 10, 5 7, 0 7))</td>\n",
       "      <td>200</td>\n",
       "      <td>100</td>\n",
       "      <td>20000</td>\n",
       "    </tr>\n",
       "  </tbody>\n",
       "</table>\n",
       "</div>"
      ],
      "text/plain": [
       "                                  geometry  population  pci  income\n",
       "0      POLYGON ((0 0, 5 0, 5 7, 0 7, 0 0))         500   75   37500\n",
       "1  POLYGON ((5 0, 5 10, 10 10, 10 0, 5 0))         100   80    8000\n",
       "2    POLYGON ((0 7, 0 10, 5 10, 5 7, 0 7))         200  100   20000"
      ]
     },
     "execution_count": 52,
     "metadata": {},
     "output_type": "execute_result"
    }
   ],
   "source": [
    "df2"
   ]
  },
  {
   "cell_type": "code",
   "execution_count": null,
   "metadata": {},
   "outputs": [],
   "source": []
  },
  {
   "cell_type": "code",
   "execution_count": 53,
   "metadata": {},
   "outputs": [
    {
     "data": {
      "text/plain": [
       "array([100., 250., 100., 150., 100.])"
      ]
     },
     "execution_count": 53,
     "metadata": {},
     "output_type": "execute_result"
    }
   ],
   "source": [
    "area_extensive(df1, res_union, 'population')"
   ]
  },
  {
   "cell_type": "code",
   "execution_count": 54,
   "metadata": {},
   "outputs": [
    {
     "data": {
      "text/plain": [
       "array([250.        , 250.        ,  57.14285714, 100.        ,\n",
       "       142.85714286])"
      ]
     },
     "execution_count": 54,
     "metadata": {},
     "output_type": "execute_result"
    }
   ],
   "source": [
    "area_extensive(df2, res_union, 'population')"
   ]
  },
  {
   "cell_type": "code",
   "execution_count": 55,
   "metadata": {},
   "outputs": [
    {
     "data": {
      "text/plain": [
       "700.0"
      ]
     },
     "execution_count": 55,
     "metadata": {},
     "output_type": "execute_result"
    }
   ],
   "source": [
    "area_extensive(df1, res_union, 'population').sum()"
   ]
  },
  {
   "cell_type": "code",
   "execution_count": 56,
   "metadata": {},
   "outputs": [
    {
     "data": {
      "text/plain": [
       "800.0"
      ]
     },
     "execution_count": 56,
     "metadata": {},
     "output_type": "execute_result"
    }
   ],
   "source": [
    "area_extensive(df2, res_union, 'population').sum()"
   ]
  },
  {
   "cell_type": "code",
   "execution_count": 57,
   "metadata": {},
   "outputs": [
    {
     "data": {
      "text/plain": [
       "array([ 75.,  75., 100.,  80., 100.])"
      ]
     },
     "execution_count": 57,
     "metadata": {},
     "output_type": "execute_result"
    }
   ],
   "source": [
    "area_intensive(df2, res_union, 'pci')"
   ]
  },
  {
   "cell_type": "code",
   "execution_count": 58,
   "metadata": {},
   "outputs": [
    {
     "data": {
      "text/plain": [
       "array([100.,  75.,  75.,  75., 100.])"
      ]
     },
     "execution_count": 58,
     "metadata": {},
     "output_type": "execute_result"
    }
   ],
   "source": [
    "area_intensive(df1, res_union, 'pci')"
   ]
  },
  {
   "cell_type": "code",
   "execution_count": 59,
   "metadata": {},
   "outputs": [],
   "source": [
    "#gdf.to_file(\"result2.shp\")"
   ]
  },
  {
   "cell_type": "code",
   "execution_count": 60,
   "metadata": {},
   "outputs": [
    {
     "data": {
      "text/html": [
       "<div>\n",
       "<style scoped>\n",
       "    .dataframe tbody tr th:only-of-type {\n",
       "        vertical-align: middle;\n",
       "    }\n",
       "\n",
       "    .dataframe tbody tr th {\n",
       "        vertical-align: top;\n",
       "    }\n",
       "\n",
       "    .dataframe thead th {\n",
       "        text-align: right;\n",
       "    }\n",
       "</style>\n",
       "<table border=\"1\" class=\"dataframe\">\n",
       "  <thead>\n",
       "    <tr style=\"text-align: right;\">\n",
       "      <th></th>\n",
       "      <th>geometry</th>\n",
       "      <th>population</th>\n",
       "      <th>pci</th>\n",
       "      <th>income</th>\n",
       "    </tr>\n",
       "  </thead>\n",
       "  <tbody>\n",
       "    <tr>\n",
       "      <th>0</th>\n",
       "      <td>POLYGON ((0 0, 10 0, 10 5, 0 5, 0 0))</td>\n",
       "      <td>500</td>\n",
       "      <td>75</td>\n",
       "      <td>37500</td>\n",
       "    </tr>\n",
       "    <tr>\n",
       "      <th>1</th>\n",
       "      <td>POLYGON ((0 5, 0 10, 10 10, 10 5, 0 5))</td>\n",
       "      <td>200</td>\n",
       "      <td>100</td>\n",
       "      <td>20000</td>\n",
       "    </tr>\n",
       "  </tbody>\n",
       "</table>\n",
       "</div>"
      ],
      "text/plain": [
       "                                  geometry  population  pci  income\n",
       "0    POLYGON ((0 0, 10 0, 10 5, 0 5, 0 0))         500   75   37500\n",
       "1  POLYGON ((0 5, 0 10, 10 10, 10 5, 0 5))         200  100   20000"
      ]
     },
     "execution_count": 60,
     "metadata": {},
     "output_type": "execute_result"
    }
   ],
   "source": [
    "df1.head()"
   ]
  },
  {
   "cell_type": "code",
   "execution_count": 61,
   "metadata": {},
   "outputs": [],
   "source": [
    "pci2 = area_intensive(df2, res_union, 'pci')"
   ]
  },
  {
   "cell_type": "code",
   "execution_count": 62,
   "metadata": {},
   "outputs": [],
   "source": [
    "pci1 = area_intensive(df1, res_union, 'pci')"
   ]
  },
  {
   "cell_type": "code",
   "execution_count": 63,
   "metadata": {},
   "outputs": [],
   "source": [
    "res_union['pci2'] = pci2\n",
    "res_union['pci1'] = pci1\n",
    "res_union.to_file(\"res_union.shp\")"
   ]
  },
  {
   "cell_type": "code",
   "execution_count": null,
   "metadata": {},
   "outputs": [],
   "source": [
    " "
   ]
  },
  {
   "cell_type": "code",
   "execution_count": null,
   "metadata": {},
   "outputs": [],
   "source": []
  }
 ],
 "metadata": {
  "kernelspec": {
   "display_name": "Python 3",
   "language": "python",
   "name": "python3"
  },
  "language_info": {
   "codemirror_mode": {
    "name": "ipython",
    "version": 3
   },
   "file_extension": ".py",
   "mimetype": "text/x-python",
   "name": "python",
   "nbconvert_exporter": "python",
   "pygments_lexer": "ipython3",
   "version": "3.6.5"
  }
 },
 "nbformat": 4,
 "nbformat_minor": 2
}
