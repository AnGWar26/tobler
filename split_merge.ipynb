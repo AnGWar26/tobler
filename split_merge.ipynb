{
 "cells": [
  {
   "cell_type": "code",
   "execution_count": 12,
   "metadata": {},
   "outputs": [],
   "source": [
    "%matplotlib inline\n",
    "import matplotlib.pyplot as plt\n",
    "from shapely.geometry import Polygon\n",
    "import numpy as np"
   ]
  },
  {
   "cell_type": "code",
   "execution_count": 13,
   "metadata": {},
   "outputs": [],
   "source": [
    "import geopandas as gpd\n",
    "from tobler import area_table, area_extensive, area_intensive"
   ]
  },
  {
   "cell_type": "code",
   "execution_count": 14,
   "metadata": {},
   "outputs": [],
   "source": [
    "polys1 = gpd.GeoSeries([Polygon([(5, 2), (5, 20), (20, 20), (20,2)]),\n",
    "                      Polygon([(20, 2), (20, 20),  (40,20), (40,2)])])\n",
    "\n",
    "polys2 = gpd.GeoSeries([Polygon([(0,0), (0,17), (10, 17), (10, 0)]),\n",
    "                       Polygon([(0, 17), (0, 20), (10, 20), (10, 17)]),\n",
    "                       Polygon([(10, 20), (30, 20), (30,5),(30, 2), (10, 2), (10,17)]),\n",
    "                       Polygon([(30, 20), (30, 25), (50, 25), (50, 5), (30, 5)])])\n",
    "\n"
   ]
  },
  {
   "cell_type": "code",
   "execution_count": 15,
   "metadata": {},
   "outputs": [],
   "source": [
    "df1 = gpd.GeoDataFrame({'geometry': polys1, 'year': [1990, 1990]})\n",
    "df2 = gpd.GeoDataFrame({'geometry': polys2, 'year': [2000, 2000, 2000, 2000]})\n"
   ]
  },
  {
   "cell_type": "code",
   "execution_count": 16,
   "metadata": {},
   "outputs": [
    {
     "data": {
      "text/plain": [
       "(0, 50)"
      ]
     },
     "execution_count": 16,
     "metadata": {},
     "output_type": "execute_result"
    },
    {
     "data": {
      "image/png": "[encoded data removed]",
      "text/plain": [
       "<matplotlib.figure.Figure at 0x7fcbf372c0f0>"
      ]
     },
     "metadata": {},
     "output_type": "display_data"
    }
   ],
   "source": [
    "ax = df1.plot(color='red', edgecolor='k')\n",
    "ax.set_ylim(0,25)\n",
    "ax.set_xlim(0, 50)"
   ]
  },
  {
   "cell_type": "code",
   "execution_count": 17,
   "metadata": {},
   "outputs": [
    {
     "data": {
      "text/plain": [
       "(0, 50)"
      ]
     },
     "execution_count": 17,
     "metadata": {},
     "output_type": "execute_result"
    },
    {
     "data": {
      "image/png": "[encoded data removed]",
      "text/plain": [
       "<matplotlib.figure.Figure at 0x7fcbf372c7f0>"
      ]
     },
     "metadata": {},
     "output_type": "display_data"
    }
   ],
   "source": [
    "ax = df2.plot(color='blue', alpha=0.5, edgecolor='k')\n",
    "ax.set_ylim(0, 25)\n",
    "ax.set_xlim(0, 50)"
   ]
  },
  {
   "cell_type": "code",
   "execution_count": 18,
   "metadata": {},
   "outputs": [
    {
     "data": {
      "text/plain": [
       "<matplotlib.axes._subplots.AxesSubplot at 0x7fcbf5a5bb38>"
      ]
     },
     "execution_count": 18,
     "metadata": {},
     "output_type": "execute_result"
    },
    {
     "data": {
      "image/png": "[encoded data removed]",
      "text/plain": [
       "<matplotlib.figure.Figure at 0x7fcbf3a06e10>"
      ]
     },
     "metadata": {},
     "output_type": "display_data"
    }
   ],
   "source": [
    "ax = df1.plot(color='red', edgecolor='k')\n",
    "df2.plot(ax=ax, color='blue', alpha=0.5, edgecolor='k')"
   ]
  },
  {
   "cell_type": "code",
   "execution_count": 19,
   "metadata": {},
   "outputs": [],
   "source": [
    "res_union = gpd.overlay(df1, df2, how='union')\n"
   ]
  },
  {
   "cell_type": "code",
   "execution_count": 20,
   "metadata": {},
   "outputs": [
    {
     "data": {
      "image/png": "[encoded data removed]",
      "text/plain": [
       "<matplotlib.figure.Figure at 0x7fcbf3749a20>"
      ]
     },
     "metadata": {},
     "output_type": "display_data"
    }
   ],
   "source": [
    "res_union = gpd.overlay(df1, df2, how='union')\n",
    "ax = res_union.plot(alpha=0.5, cmap='tab10')\n",
    "df1.plot(ax=ax, facecolor='none', edgecolor='k');\n",
    "df2.plot(ax=ax, facecolor='none', edgecolor='k');"
   ]
  },
  {
   "cell_type": "code",
   "execution_count": 21,
   "metadata": {},
   "outputs": [
    {
     "data": {
      "text/html": [
       "<div>\n",
       "<style scoped>\n",
       "    .dataframe tbody tr th:only-of-type {\n",
       "        vertical-align: middle;\n",
       "    }\n",
       "\n",
       "    .dataframe tbody tr th {\n",
       "        vertical-align: top;\n",
       "    }\n",
       "\n",
       "    .dataframe thead th {\n",
       "        text-align: right;\n",
       "    }\n",
       "</style>\n",
       "<table border=\"1\" class=\"dataframe\">\n",
       "  <thead>\n",
       "    <tr style=\"text-align: right;\">\n",
       "      <th></th>\n",
       "      <th>year</th>\n",
       "      <th>year_2</th>\n",
       "      <th>geometry</th>\n",
       "    </tr>\n",
       "  </thead>\n",
       "  <tbody>\n",
       "    <tr>\n",
       "      <th>0</th>\n",
       "      <td>1990.0</td>\n",
       "      <td>2000.0</td>\n",
       "      <td>POLYGON ((20 20, 20 2, 10 2, 10 17, 10 20, 20 ...</td>\n",
       "    </tr>\n",
       "    <tr>\n",
       "      <th>1</th>\n",
       "      <td>1990.0</td>\n",
       "      <td>2000.0</td>\n",
       "      <td>POLYGON ((20 2, 20 20, 30 20, 30 5, 30 2, 20 2))</td>\n",
       "    </tr>\n",
       "    <tr>\n",
       "      <th>2</th>\n",
       "      <td>1990.0</td>\n",
       "      <td>2000.0</td>\n",
       "      <td>POLYGON ((30 20, 40 20, 40 5, 30 5, 30 20))</td>\n",
       "    </tr>\n",
       "    <tr>\n",
       "      <th>3</th>\n",
       "      <td>NaN</td>\n",
       "      <td>2000.0</td>\n",
       "      <td>POLYGON ((40 5, 40 20, 30 20, 30 25, 50 25, 50...</td>\n",
       "    </tr>\n",
       "    <tr>\n",
       "      <th>4</th>\n",
       "      <td>1990.0</td>\n",
       "      <td>NaN</td>\n",
       "      <td>POLYGON ((40 5, 40 2, 30 2, 30 5, 40 5))</td>\n",
       "    </tr>\n",
       "    <tr>\n",
       "      <th>5</th>\n",
       "      <td>NaN</td>\n",
       "      <td>2000.0</td>\n",
       "      <td>POLYGON ((0 0, 0 17, 5 17, 5 2, 10 2, 10 0, 0 0))</td>\n",
       "    </tr>\n",
       "    <tr>\n",
       "      <th>6</th>\n",
       "      <td>NaN</td>\n",
       "      <td>2000.0</td>\n",
       "      <td>POLYGON ((5 17, 0 17, 0 20, 5 20, 5 17))</td>\n",
       "    </tr>\n",
       "    <tr>\n",
       "      <th>7</th>\n",
       "      <td>1990.0</td>\n",
       "      <td>2000.0</td>\n",
       "      <td>POLYGON ((5 17, 10 17, 10 2, 5 2, 5 17))</td>\n",
       "    </tr>\n",
       "    <tr>\n",
       "      <th>8</th>\n",
       "      <td>1990.0</td>\n",
       "      <td>2000.0</td>\n",
       "      <td>POLYGON ((10 17, 5 17, 5 20, 10 20, 10 17))</td>\n",
       "    </tr>\n",
       "  </tbody>\n",
       "</table>\n",
       "</div>"
      ],
      "text/plain": [
       "     year  year_2                                           geometry\n",
       "0  1990.0  2000.0  POLYGON ((20 20, 20 2, 10 2, 10 17, 10 20, 20 ...\n",
       "1  1990.0  2000.0   POLYGON ((20 2, 20 20, 30 20, 30 5, 30 2, 20 2))\n",
       "2  1990.0  2000.0        POLYGON ((30 20, 40 20, 40 5, 30 5, 30 20))\n",
       "3     NaN  2000.0  POLYGON ((40 5, 40 20, 30 20, 30 25, 50 25, 50...\n",
       "4  1990.0     NaN           POLYGON ((40 5, 40 2, 30 2, 30 5, 40 5))\n",
       "5     NaN  2000.0  POLYGON ((0 0, 0 17, 5 17, 5 2, 10 2, 10 0, 0 0))\n",
       "6     NaN  2000.0           POLYGON ((5 17, 0 17, 0 20, 5 20, 5 17))\n",
       "7  1990.0  2000.0           POLYGON ((5 17, 10 17, 10 2, 5 2, 5 17))\n",
       "8  1990.0  2000.0        POLYGON ((10 17, 5 17, 5 20, 10 20, 10 17))"
      ]
     },
     "execution_count": 21,
     "metadata": {},
     "output_type": "execute_result"
    }
   ],
   "source": [
    "res_union"
   ]
  },
  {
   "cell_type": "code",
   "execution_count": 22,
   "metadata": {},
   "outputs": [
    {
     "data": {
      "image/png": "[encoded data removed]",
      "text/plain": [
       "<matplotlib.figure.Figure at 0x7fcbf38f4470>"
      ]
     },
     "metadata": {},
     "output_type": "display_data"
    }
   ],
   "source": [
    "res_union = gpd.overlay(df1, df2, how='union')\n",
    "ax = res_union.plot(alpha=0.5, cmap='tab10')\n",
    "df1.plot(ax=ax, facecolor='none', edgecolor='k');\n",
    "df2.plot(ax=ax, facecolor='none', edgecolor='k');\n",
    "for idx, row in res_union.iterrows():\n",
    "    x = row.geometry.centroid.x\n",
    "    y = row.geometry.centroid.y\n",
    "    plt.text( x, y, str(idx), horizontalalignment='center',\n",
    "            verticalalignment='center')\n",
    "    "
   ]
  },
  {
   "cell_type": "markdown",
   "metadata": {},
   "source": [
    "Eulers number and closed surfaces tells us that:\n",
    "\n",
    "$$ V - E + F = 2$$\n",
    "\n",
    "[Source](http://paulbourke.net/geometry/polygonmesh/)"
   ]
  },
  {
   "cell_type": "markdown",
   "metadata": {},
   "source": [
    "In our union diagram theare are 9+1 faces (9 internal and 1 external)"
   ]
  },
  {
   "cell_type": "markdown",
   "metadata": {},
   "source": [
    "V = 21\n",
    "\n",
    "E = V + F - 2\n",
    "\n",
    "E = 21 + 10 - 2 = 29"
   ]
  },
  {
   "cell_type": "code",
   "execution_count": 6,
   "metadata": {},
   "outputs": [
    {
     "data": {
      "image/png": "[encoded data removed]",
      "text/plain": [
       "<Figure size 432x288 with 1 Axes>"
      ]
     },
     "metadata": {},
     "output_type": "display_data"
    }
   ],
   "source": [
    "polys1 = gpd.GeoSeries([Polygon([(0,0), (10,0), (10,5), (0,5)]),\n",
    "                      Polygon([(0,5), (0,10),  (10,10), (10,5)])])\n",
    "\n",
    "polys2 = gpd.GeoSeries([Polygon([(0,0), (5,0), (5,7), (0,7)]),\n",
    "                      Polygon([(5,0), (5,10),  (10,10), (10,0)]),\n",
    "                       Polygon([(0,7), (0,10), (5,10), (5,7)  ])\n",
    "                       ])\n",
    "\n",
    "df1 = gpd.GeoDataFrame({'geometry': polys1})\n",
    "df2 = gpd.GeoDataFrame({'geometry': polys2})\n",
    "df1['population'] = [ 500,  200]\n",
    "df1['pci'] = [75, 100]\n",
    "df1['income'] = df1['population'] * df1['pci']\n",
    "\n",
    "df2['population'] = [ 500,  100, 200]\n",
    "df2['pci'] = [75, 80, 100]\n",
    "df2['income'] = df2['population'] * df2['pci']\n",
    "\n",
    "ax = df1.plot(color='red', edgecolor='k')"
   ]
  },
  {
   "cell_type": "code",
   "execution_count": null,
   "metadata": {},
   "outputs": [],
   "source": []
  },
  {
   "cell_type": "code",
   "execution_count": 4,
   "metadata": {},
   "outputs": [
    {
     "data": {
      "image/png": "[encoded data removed]",
      "text/plain": [
       "<Figure size 432x288 with 1 Axes>"
      ]
     },
     "metadata": {},
     "output_type": "display_data"
    }
   ],
   "source": [
    "ax = df2.plot(color='green', alpha=0.5, edgecolor='k')"
   ]
  },
  {
   "cell_type": "code",
   "execution_count": 5,
   "metadata": {},
   "outputs": [
    {
     "data": {
      "image/png": "[encoded data removed]",
      "text/plain": [
       "<Figure size 432x288 with 1 Axes>"
      ]
     },
     "metadata": {},
     "output_type": "display_data"
    }
   ],
   "source": [
    "res_union = gpd.overlay(df1, df2, how='union')\n",
    "ax = res_union.plot(alpha=0.5, cmap='tab10')\n",
    "df1.plot(ax=ax, facecolor='none', edgecolor='k');\n",
    "df2.plot(ax=ax, facecolor='none', edgecolor='k');"
   ]
  },
  {
   "cell_type": "code",
   "execution_count": null,
   "metadata": {},
   "outputs": [],
   "source": []
  },
  {
   "cell_type": "code",
   "execution_count": 43,
   "metadata": {},
   "outputs": [
    {
     "data": {
      "text/plain": [
       "array([[25., 15., 10.],\n",
       "       [25.,  0., 25.]])"
      ]
     },
     "execution_count": 43,
     "metadata": {},
     "output_type": "execute_result"
    }
   ],
   "source": [
    "area_table(df1, df2)"
   ]
  },
  {
   "cell_type": "code",
   "execution_count": 44,
   "metadata": {},
   "outputs": [
    {
     "data": {
      "text/plain": [
       "array([[25., 25.],\n",
       "       [15.,  0.],\n",
       "       [10., 25.]])"
      ]
     },
     "execution_count": 44,
     "metadata": {},
     "output_type": "execute_result"
    }
   ],
   "source": [
    "area_table(df2, df1)"
   ]
  },
  {
   "cell_type": "code",
   "execution_count": 45,
   "metadata": {},
   "outputs": [
    {
     "data": {
      "text/plain": [
       "array([407.14285714, 392.85714286])"
      ]
     },
     "execution_count": 45,
     "metadata": {},
     "output_type": "execute_result"
    }
   ],
   "source": [
    "area_extensive(df2, df1, 'population')"
   ]
  },
  {
   "cell_type": "code",
   "execution_count": 46,
   "metadata": {},
   "outputs": [
    {
     "data": {
      "text/plain": [
       "array([350., 150., 200.])"
      ]
     },
     "execution_count": 46,
     "metadata": {},
     "output_type": "execute_result"
    }
   ],
   "source": [
    "area_extensive(df1, df2, 'population')"
   ]
  },
  {
   "cell_type": "code",
   "execution_count": 47,
   "metadata": {},
   "outputs": [
    {
     "data": {
      "text/plain": [
       "array([81.5, 87.5])"
      ]
     },
     "execution_count": 47,
     "metadata": {},
     "output_type": "execute_result"
    }
   ],
   "source": [
    "area_intensive(df2, df1, 'pci')"
   ]
  },
  {
   "cell_type": "code",
   "execution_count": 48,
   "metadata": {},
   "outputs": [
    {
     "data": {
      "text/plain": [
       "array([87.5       , 75.        , 92.85714286])"
      ]
     },
     "execution_count": 48,
     "metadata": {},
     "output_type": "execute_result"
    }
   ],
   "source": [
    "area_intensive(df1, df2, 'pci')"
   ]
  },
  {
   "cell_type": "code",
   "execution_count": 49,
   "metadata": {},
   "outputs": [
    {
     "name": "stdout",
     "output_type": "stream",
     "text": [
      "0 population                                      500\n",
      "pci                                              75\n",
      "income                                        37500\n",
      "population_2                                    500\n",
      "pci_2                                            75\n",
      "income_2                                      37500\n",
      "geometry        POLYGON ((5 0, 0 0, 0 5, 5 5, 5 0))\n",
      "Name: 0, dtype: object\n",
      "1 population                                         500\n",
      "pci                                                 75\n",
      "income                                           37500\n",
      "population_2                                       100\n",
      "pci_2                                               80\n",
      "income_2                                          8000\n",
      "geometry        POLYGON ((10 0, 5 0, 5 5, 10 5, 10 0))\n",
      "Name: 1, dtype: object\n",
      "2 population                                                200\n",
      "pci                                                       100\n",
      "income                                                  20000\n",
      "population_2                                              100\n",
      "pci_2                                                      80\n",
      "income_2                                                 8000\n",
      "geometry        POLYGON ((10 5, 5 5, 5 7, 5 10, 10 10, 10 5))\n",
      "Name: 2, dtype: object\n",
      "3 population                                      200\n",
      "pci                                             100\n",
      "income                                        20000\n",
      "population_2                                    500\n",
      "pci_2                                            75\n",
      "income_2                                      37500\n",
      "geometry        POLYGON ((5 5, 0 5, 0 7, 5 7, 5 5))\n",
      "Name: 3, dtype: object\n",
      "4 population                                        200\n",
      "pci                                               100\n",
      "income                                          20000\n",
      "population_2                                      200\n",
      "pci_2                                             100\n",
      "income_2                                        20000\n",
      "geometry        POLYGON ((5 7, 0 7, 0 10, 5 10, 5 7))\n",
      "Name: 4, dtype: object\n"
     ]
    }
   ],
   "source": [
    "for idx, row in res_union.iterrows():\n",
    "    print(idx, row)"
   ]
  },
  {
   "cell_type": "code",
   "execution_count": 50,
   "metadata": {},
   "outputs": [
    {
     "data": {
      "text/html": [
       "<div>\n",
       "<style scoped>\n",
       "    .dataframe tbody tr th:only-of-type {\n",
       "        vertical-align: middle;\n",
       "    }\n",
       "\n",
       "    .dataframe tbody tr th {\n",
       "        vertical-align: top;\n",
       "    }\n",
       "\n",
       "    .dataframe thead th {\n",
       "        text-align: right;\n",
       "    }\n",
       "</style>\n",
       "<table border=\"1\" class=\"dataframe\">\n",
       "  <thead>\n",
       "    <tr style=\"text-align: right;\">\n",
       "      <th></th>\n",
       "      <th>population</th>\n",
       "      <th>pci</th>\n",
       "      <th>income</th>\n",
       "      <th>population_2</th>\n",
       "      <th>pci_2</th>\n",
       "      <th>income_2</th>\n",
       "      <th>geometry</th>\n",
       "    </tr>\n",
       "  </thead>\n",
       "  <tbody>\n",
       "    <tr>\n",
       "      <th>0</th>\n",
       "      <td>500</td>\n",
       "      <td>75</td>\n",
       "      <td>37500</td>\n",
       "      <td>500</td>\n",
       "      <td>75</td>\n",
       "      <td>37500</td>\n",
       "      <td>POLYGON ((5 0, 0 0, 0 5, 5 5, 5 0))</td>\n",
       "    </tr>\n",
       "    <tr>\n",
       "      <th>1</th>\n",
       "      <td>500</td>\n",
       "      <td>75</td>\n",
       "      <td>37500</td>\n",
       "      <td>100</td>\n",
       "      <td>80</td>\n",
       "      <td>8000</td>\n",
       "      <td>POLYGON ((10 0, 5 0, 5 5, 10 5, 10 0))</td>\n",
       "    </tr>\n",
       "    <tr>\n",
       "      <th>2</th>\n",
       "      <td>200</td>\n",
       "      <td>100</td>\n",
       "      <td>20000</td>\n",
       "      <td>100</td>\n",
       "      <td>80</td>\n",
       "      <td>8000</td>\n",
       "      <td>POLYGON ((10 5, 5 5, 5 7, 5 10, 10 10, 10 5))</td>\n",
       "    </tr>\n",
       "    <tr>\n",
       "      <th>3</th>\n",
       "      <td>200</td>\n",
       "      <td>100</td>\n",
       "      <td>20000</td>\n",
       "      <td>500</td>\n",
       "      <td>75</td>\n",
       "      <td>37500</td>\n",
       "      <td>POLYGON ((5 5, 0 5, 0 7, 5 7, 5 5))</td>\n",
       "    </tr>\n",
       "    <tr>\n",
       "      <th>4</th>\n",
       "      <td>200</td>\n",
       "      <td>100</td>\n",
       "      <td>20000</td>\n",
       "      <td>200</td>\n",
       "      <td>100</td>\n",
       "      <td>20000</td>\n",
       "      <td>POLYGON ((5 7, 0 7, 0 10, 5 10, 5 7))</td>\n",
       "    </tr>\n",
       "  </tbody>\n",
       "</table>\n",
       "</div>"
      ],
      "text/plain": [
       "   population  pci  income  population_2  pci_2  income_2  \\\n",
       "0         500   75   37500           500     75     37500   \n",
       "1         500   75   37500           100     80      8000   \n",
       "2         200  100   20000           100     80      8000   \n",
       "3         200  100   20000           500     75     37500   \n",
       "4         200  100   20000           200    100     20000   \n",
       "\n",
       "                                        geometry  \n",
       "0            POLYGON ((5 0, 0 0, 0 5, 5 5, 5 0))  \n",
       "1         POLYGON ((10 0, 5 0, 5 5, 10 5, 10 0))  \n",
       "2  POLYGON ((10 5, 5 5, 5 7, 5 10, 10 10, 10 5))  \n",
       "3            POLYGON ((5 5, 0 5, 0 7, 5 7, 5 5))  \n",
       "4          POLYGON ((5 7, 0 7, 0 10, 5 10, 5 7))  "
      ]
     },
     "execution_count": 50,
     "metadata": {},
     "output_type": "execute_result"
    }
   ],
   "source": [
    "res_union"
   ]
  },
  {
   "cell_type": "code",
   "execution_count": null,
   "metadata": {},
   "outputs": [],
   "source": [
    " "
   ]
  },
  {
   "cell_type": "code",
   "execution_count": null,
   "metadata": {},
   "outputs": [],
   "source": []
  },
  {
   "cell_type": "code",
   "execution_count": null,
   "metadata": {},
   "outputs": [],
   "source": []
  },
  {
   "cell_type": "code",
   "execution_count": 51,
   "metadata": {},
   "outputs": [
    {
     "data": {
      "text/html": [
       "<div>\n",
       "<style scoped>\n",
       "    .dataframe tbody tr th:only-of-type {\n",
       "        vertical-align: middle;\n",
       "    }\n",
       "\n",
       "    .dataframe tbody tr th {\n",
       "        vertical-align: top;\n",
       "    }\n",
       "\n",
       "    .dataframe thead th {\n",
       "        text-align: right;\n",
       "    }\n",
       "</style>\n",
       "<table border=\"1\" class=\"dataframe\">\n",
       "  <thead>\n",
       "    <tr style=\"text-align: right;\">\n",
       "      <th></th>\n",
       "      <th>geometry</th>\n",
       "      <th>population</th>\n",
       "      <th>pci</th>\n",
       "      <th>income</th>\n",
       "    </tr>\n",
       "  </thead>\n",
       "  <tbody>\n",
       "    <tr>\n",
       "      <th>0</th>\n",
       "      <td>POLYGON ((0 0, 10 0, 10 5, 0 5, 0 0))</td>\n",
       "      <td>500</td>\n",
       "      <td>75</td>\n",
       "      <td>37500</td>\n",
       "    </tr>\n",
       "    <tr>\n",
       "      <th>1</th>\n",
       "      <td>POLYGON ((0 5, 0 10, 10 10, 10 5, 0 5))</td>\n",
       "      <td>200</td>\n",
       "      <td>100</td>\n",
       "      <td>20000</td>\n",
       "    </tr>\n",
       "  </tbody>\n",
       "</table>\n",
       "</div>"
      ],
      "text/plain": [
       "                                  geometry  population  pci  income\n",
       "0    POLYGON ((0 0, 10 0, 10 5, 0 5, 0 0))         500   75   37500\n",
       "1  POLYGON ((0 5, 0 10, 10 10, 10 5, 0 5))         200  100   20000"
      ]
     },
     "execution_count": 51,
     "metadata": {},
     "output_type": "execute_result"
    }
   ],
   "source": [
    "df1"
   ]
  },
  {
   "cell_type": "code",
   "execution_count": 52,
   "metadata": {},
   "outputs": [
    {
     "data": {
      "text/html": [
       "<div>\n",
       "<style scoped>\n",
       "    .dataframe tbody tr th:only-of-type {\n",
       "        vertical-align: middle;\n",
       "    }\n",
       "\n",
       "    .dataframe tbody tr th {\n",
       "        vertical-align: top;\n",
       "    }\n",
       "\n",
       "    .dataframe thead th {\n",
       "        text-align: right;\n",
       "    }\n",
       "</style>\n",
       "<table border=\"1\" class=\"dataframe\">\n",
       "  <thead>\n",
       "    <tr style=\"text-align: right;\">\n",
       "      <th></th>\n",
       "      <th>geometry</th>\n",
       "      <th>population</th>\n",
       "      <th>pci</th>\n",
       "      <th>income</th>\n",
       "    </tr>\n",
       "  </thead>\n",
       "  <tbody>\n",
       "    <tr>\n",
       "      <th>0</th>\n",
       "      <td>POLYGON ((0 0, 5 0, 5 7, 0 7, 0 0))</td>\n",
       "      <td>500</td>\n",
       "      <td>75</td>\n",
       "      <td>37500</td>\n",
       "    </tr>\n",
       "    <tr>\n",
       "      <th>1</th>\n",
       "      <td>POLYGON ((5 0, 5 10, 10 10, 10 0, 5 0))</td>\n",
       "      <td>100</td>\n",
       "      <td>80</td>\n",
       "      <td>8000</td>\n",
       "    </tr>\n",
       "    <tr>\n",
       "      <th>2</th>\n",
       "      <td>POLYGON ((0 7, 0 10, 5 10, 5 7, 0 7))</td>\n",
       "      <td>200</td>\n",
       "      <td>100</td>\n",
       "      <td>20000</td>\n",
       "    </tr>\n",
       "  </tbody>\n",
       "</table>\n",
       "</div>"
      ],
      "text/plain": [
       "                                  geometry  population  pci  income\n",
       "0      POLYGON ((0 0, 5 0, 5 7, 0 7, 0 0))         500   75   37500\n",
       "1  POLYGON ((5 0, 5 10, 10 10, 10 0, 5 0))         100   80    8000\n",
       "2    POLYGON ((0 7, 0 10, 5 10, 5 7, 0 7))         200  100   20000"
      ]
     },
     "execution_count": 52,
     "metadata": {},
     "output_type": "execute_result"
    }
   ],
   "source": [
    "df2"
   ]
  },
  {
   "cell_type": "code",
   "execution_count": null,
   "metadata": {},
   "outputs": [],
   "source": []
  },
  {
   "cell_type": "code",
   "execution_count": 53,
   "metadata": {},
   "outputs": [
    {
     "data": {
      "text/plain": [
       "array([100., 250., 100., 150., 100.])"
      ]
     },
     "execution_count": 53,
     "metadata": {},
     "output_type": "execute_result"
    }
   ],
   "source": [
    "area_extensive(df1, res_union, 'population')"
   ]
  },
  {
   "cell_type": "code",
   "execution_count": 54,
   "metadata": {},
   "outputs": [
    {
     "data": {
      "text/plain": [
       "array([250.        , 250.        ,  57.14285714, 100.        ,\n",
       "       142.85714286])"
      ]
     },
     "execution_count": 54,
     "metadata": {},
     "output_type": "execute_result"
    }
   ],
   "source": [
    "area_extensive(df2, res_union, 'population')"
   ]
  },
  {
   "cell_type": "code",
   "execution_count": 55,
   "metadata": {},
   "outputs": [
    {
     "data": {
      "text/plain": [
       "700.0"
      ]
     },
     "execution_count": 55,
     "metadata": {},
     "output_type": "execute_result"
    }
   ],
   "source": [
    "area_extensive(df1, res_union, 'population').sum()"
   ]
  },
  {
   "cell_type": "code",
   "execution_count": 56,
   "metadata": {},
   "outputs": [
    {
     "data": {
      "text/plain": [
       "800.0"
      ]
     },
     "execution_count": 56,
     "metadata": {},
     "output_type": "execute_result"
    }
   ],
   "source": [
    "area_extensive(df2, res_union, 'population').sum()"
   ]
  },
  {
   "cell_type": "code",
   "execution_count": 57,
   "metadata": {},
   "outputs": [
    {
     "data": {
      "text/plain": [
       "array([ 75.,  75., 100.,  80., 100.])"
      ]
     },
     "execution_count": 57,
     "metadata": {},
     "output_type": "execute_result"
    }
   ],
   "source": [
    "area_intensive(df2, res_union, 'pci')"
   ]
  },
  {
   "cell_type": "code",
   "execution_count": 58,
   "metadata": {},
   "outputs": [
    {
     "data": {
      "text/plain": [
       "array([100.,  75.,  75.,  75., 100.])"
      ]
     },
     "execution_count": 58,
     "metadata": {},
     "output_type": "execute_result"
    }
   ],
   "source": [
    "area_intensive(df1, res_union, 'pci')"
   ]
  },
  {
   "cell_type": "code",
   "execution_count": 59,
   "metadata": {},
   "outputs": [],
   "source": [
    "#gdf.to_file(\"result2.shp\")"
   ]
  },
  {
   "cell_type": "code",
   "execution_count": 60,
   "metadata": {},
   "outputs": [
    {
     "data": {
      "text/html": [
       "<div>\n",
       "<style scoped>\n",
       "    .dataframe tbody tr th:only-of-type {\n",
       "        vertical-align: middle;\n",
       "    }\n",
       "\n",
       "    .dataframe tbody tr th {\n",
       "        vertical-align: top;\n",
       "    }\n",
       "\n",
       "    .dataframe thead th {\n",
       "        text-align: right;\n",
       "    }\n",
       "</style>\n",
       "<table border=\"1\" class=\"dataframe\">\n",
       "  <thead>\n",
       "    <tr style=\"text-align: right;\">\n",
       "      <th></th>\n",
       "      <th>geometry</th>\n",
       "      <th>population</th>\n",
       "      <th>pci</th>\n",
       "      <th>income</th>\n",
       "    </tr>\n",
       "  </thead>\n",
       "  <tbody>\n",
       "    <tr>\n",
       "      <th>0</th>\n",
       "      <td>POLYGON ((0 0, 10 0, 10 5, 0 5, 0 0))</td>\n",
       "      <td>500</td>\n",
       "      <td>75</td>\n",
       "      <td>37500</td>\n",
       "    </tr>\n",
       "    <tr>\n",
       "      <th>1</th>\n",
       "      <td>POLYGON ((0 5, 0 10, 10 10, 10 5, 0 5))</td>\n",
       "      <td>200</td>\n",
       "      <td>100</td>\n",
       "      <td>20000</td>\n",
       "    </tr>\n",
       "  </tbody>\n",
       "</table>\n",
       "</div>"
      ],
      "text/plain": [
       "                                  geometry  population  pci  income\n",
       "0    POLYGON ((0 0, 10 0, 10 5, 0 5, 0 0))         500   75   37500\n",
       "1  POLYGON ((0 5, 0 10, 10 10, 10 5, 0 5))         200  100   20000"
      ]
     },
     "execution_count": 60,
     "metadata": {},
     "output_type": "execute_result"
    }
   ],
   "source": [
    "df1.head()"
   ]
  },
  {
   "cell_type": "code",
   "execution_count": 61,
   "metadata": {},
   "outputs": [],
   "source": [
    "pci2 = area_intensive(df2, res_union, 'pci')"
   ]
  },
  {
   "cell_type": "code",
   "execution_count": 62,
   "metadata": {},
   "outputs": [],
   "source": [
    "pci1 = area_intensive(df1, res_union, 'pci')"
   ]
  },
  {
   "cell_type": "code",
   "execution_count": 63,
   "metadata": {},
   "outputs": [],
   "source": [
    "res_union['pci2'] = pci2\n",
    "res_union['pci1'] = pci1\n",
    "res_union.to_file(\"res_union.shp\")"
   ]
  },
  {
   "cell_type": "code",
   "execution_count": null,
   "metadata": {},
   "outputs": [],
   "source": [
    " "
   ]
  },
  {
   "cell_type": "code",
   "execution_count": null,
   "metadata": {},
   "outputs": [],
   "source": []
  }
 ],
 "metadata": {
  "kernelspec": {
   "display_name": "Python 3",
   "language": "python",
   "name": "python3"
  },
  "language_info": {
   "codemirror_mode": {
    "name": "ipython",
    "version": 3
   },
   "file_extension": ".py",
   "mimetype": "text/x-python",
   "name": "python",
   "nbconvert_exporter": "python",
   "pygments_lexer": "ipython3",
   "version": "3.5.5"
  }
 },
 "nbformat": 4,
 "nbformat_minor": 2
}
