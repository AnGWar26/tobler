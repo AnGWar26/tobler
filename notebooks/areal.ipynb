{
 "cells": [
  {
   "cell_type": "code",
   "execution_count": null,
   "metadata": {},
   "outputs": [],
   "source": [
    "from shapely.geometry import Polygon\n",
    "import numpy as np\n",
    "%matplotlib inline"
   ]
  },
  {
   "cell_type": "code",
   "execution_count": null,
   "metadata": {},
   "outputs": [],
   "source": [
    "import geopandas as gpd\n",
    "from tobler import area_weighted"
   ]
  },
  {
   "cell_type": "code",
   "execution_count": null,
   "metadata": {},
   "outputs": [],
   "source": [
    "from tobler.area_weighted import area_tables, area_interpolate\n"
   ]
  },
  {
   "cell_type": "markdown",
   "metadata": {},
   "source": [
    "## Example: Two GeoDataFrames"
   ]
  },
  {
   "cell_type": "code",
   "execution_count": null,
   "metadata": {},
   "outputs": [],
   "source": [
    "polys1 = gpd.GeoSeries([Polygon([(0,0), (10,0), (10,5), (0,5)]),\n",
    "                      Polygon([(0,5), (0,10),  (10,10), (10,5)])])\n",
    "\n",
    "polys2 = gpd.GeoSeries([Polygon([(0,0), (5,0), (5,7), (0,7)]),\n",
    "                      Polygon([(5,0), (5,10),  (10,10), (10,0)]),\n",
    "                       Polygon([(0,7), (0,10), (5,10), (5,7)  ])\n",
    "                       ])\n",
    "\n",
    "df1 = gpd.GeoDataFrame({'geometry': polys1})\n",
    "df2 = gpd.GeoDataFrame({'geometry': polys2})\n",
    "df1['population'] = [ 500,  200]\n",
    "df1['pci'] = [75, 100]\n",
    "df1['income'] = df1['population'] * df1['pci']\n",
    "\n",
    "df2['population'] = [ 500,  100, 200]\n",
    "df2['pci'] = [75, 80, 100]\n",
    "df2['income'] = df2['population'] * df2['pci']\n",
    "\n",
    "ax = df1.plot(color='red', edgecolor='k')"
   ]
  },
  {
   "cell_type": "code",
   "execution_count": null,
   "metadata": {},
   "outputs": [],
   "source": [
    "ax = df2.plot(color='green', alpha=0.5, edgecolor='k')"
   ]
  },
  {
   "cell_type": "code",
   "execution_count": null,
   "metadata": {},
   "outputs": [],
   "source": [
    "res_union = gpd.overlay(df1, df2, how='union')\n",
    "ax = res_union.plot(alpha=0.5, cmap='tab10')\n",
    "df1.plot(ax=ax, facecolor='none', edgecolor='k');\n",
    "df2.plot(ax=ax, facecolor='none', edgecolor='k');"
   ]
  },
  {
   "cell_type": "markdown",
   "metadata": {},
   "source": [
    "## Area Table"
   ]
  },
  {
   "cell_type": "code",
   "execution_count": null,
   "metadata": {},
   "outputs": [],
   "source": [
    "area_tables(df1, df2)"
   ]
  },
  {
   "cell_type": "code",
   "execution_count": null,
   "metadata": {},
   "outputs": [],
   "source": [
    "area_tables(df2, df1)"
   ]
  },
  {
   "cell_type": "code",
   "execution_count": null,
   "metadata": {},
   "outputs": [],
   "source": [
    "extensive_vars = ['population', 'income']\n",
    "intensive_vars = ['pci']\n",
    "estimates = area_interpolate(df1, df2, extensive_variables = extensive_vars,\n",
    "                            intensive_variables = intensive_vars)\n",
    "\n",
    "estimates"
   ]
  },
  {
   "cell_type": "code",
   "execution_count": null,
   "metadata": {},
   "outputs": [],
   "source": [
    "extensive_vars = ['population', 'income']\n",
    "intensive_vars = ['pci']\n",
    "estimates = area_interpolate(df2, df1, extensive_variables = extensive_vars,\n",
    "                            intensive_variables = intensive_vars)\n",
    "estimates"
   ]
  },
  {
   "cell_type": "markdown",
   "metadata": {},
   "source": [
    "## Non-exhuastive case\n",
    "\n",
    "Here the first set of polygons have an envelope that does not coincide with that of the second dataframe.\n"
   ]
  },
  {
   "cell_type": "code",
   "execution_count": null,
   "metadata": {},
   "outputs": [],
   "source": [
    "polys1 = gpd.GeoSeries([Polygon([(0,0), (12,0), (12,5), (0,5)]),\n",
    "                      Polygon([(0,5), (0,10),  (10,10), (10,5)])])\n",
    "\n",
    "polys2 = gpd.GeoSeries([Polygon([(0,0), (5,0), (5,7), (0,7)]),\n",
    "                      Polygon([(5,0), (5,10),  (10,10), (10,0)]),\n",
    "                       Polygon([(0,7), (0,10), (5,10), (5,7)  ])\n",
    "                       ])\n",
    "\n",
    "df1 = gpd.GeoDataFrame({'geometry': polys1})\n",
    "df2 = gpd.GeoDataFrame({'geometry': polys2})\n",
    "df1['population'] = [ 500,  200]\n",
    "df1['pci'] = [75, 100]\n",
    "df1['income'] = df1['population'] * df1['pci']\n",
    "\n",
    "df2['population'] = [ 500,  100, 200]\n",
    "df2['pci'] = [75, 80, 100]\n",
    "df2['income'] = df2['population'] * df2['pci']\n",
    "\n",
    "ax = df1.plot(color='red', edgecolor='k')\n",
    "df2.plot(ax=ax, color='green',edgecolor='k')\n"
   ]
  },
  {
   "cell_type": "code",
   "execution_count": null,
   "metadata": {},
   "outputs": [],
   "source": [
    "extensive_vars = ['population']\n",
    "intensive_vars = ['pci']\n",
    "estimates = area_interpolate(df1, df2, extensive_variables = extensive_vars,\n",
    "                            intensive_variables = intensive_vars)\n",
    "estimates"
   ]
  },
  {
   "cell_type": "code",
   "execution_count": null,
   "metadata": {},
   "outputs": [],
   "source": [
    "estimates.sum()"
   ]
  },
  {
   "cell_type": "code",
   "execution_count": null,
   "metadata": {},
   "outputs": [],
   "source": [
    "extensive_vars = ['population']\n",
    "intensive_vars = ['pci']\n",
    "estimates = area_interpolate(df1, df2, extensive_variables = extensive_vars,\n",
    "                            intensive_variables = intensive_vars,\n",
    "                            allocate_total=False)\n",
    "estimates"
   ]
  },
  {
   "cell_type": "code",
   "execution_count": null,
   "metadata": {},
   "outputs": [],
   "source": [
    "estimates.sum()"
   ]
  },
  {
   "cell_type": "markdown",
   "metadata": {},
   "source": [
    "When setting `allocate_total=False` the total population of a source zone is not completely allocated, but rather the proportion of total population is set to the area of intersection over the area of the source zone."
   ]
  },
  {
   "cell_type": "markdown",
   "metadata": {},
   "source": [
    "This will have no effect when the source df is df2 and the target df is df 1:"
   ]
  },
  {
   "cell_type": "code",
   "execution_count": null,
   "metadata": {},
   "outputs": [],
   "source": [
    "extensive_vars = ['population']\n",
    "estimates = area_interpolate(df2, df1, extensive_variables = extensive_vars)\n",
    "estimates"
   ]
  },
  {
   "cell_type": "code",
   "execution_count": null,
   "metadata": {},
   "outputs": [],
   "source": [
    "extensive_vars = ['population']\n",
    "estimates = area_interpolate(df2, df1, extensive_variables = extensive_vars, allocate_total=False)\n",
    "estimates"
   ]
  },
  {
   "cell_type": "code",
   "execution_count": null,
   "metadata": {},
   "outputs": [],
   "source": []
  }
 ],
 "metadata": {
  "kernelspec": {
   "display_name": "Python 3",
   "language": "python",
   "name": "python3"
  },
  "language_info": {
   "codemirror_mode": {
    "name": "ipython",
    "version": 3
   },
   "file_extension": ".py",
   "mimetype": "text/x-python",
   "name": "python",
   "nbconvert_exporter": "python",
   "pygments_lexer": "ipython3",
   "version": "3.7.6"
  }
 },
 "nbformat": 4,
 "nbformat_minor": 4
}
